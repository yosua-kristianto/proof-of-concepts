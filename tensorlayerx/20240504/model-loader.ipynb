{
 "cells": [
  {
   "cell_type": "code",
   "execution_count": 3,
   "metadata": {},
   "outputs": [],
   "source": [
    "from tensorlayerx.nn import Module, Linear, Input;\n",
    "from tensorlayerx import ReLU;\n",
    "from tensorlayerx.losses import softmax_cross_entropy_with_logits;\n",
    "from tensorlayerx.optimizers import SGD;\n",
    "from tensorlayerx.model import Model, TrainOneStep;\n",
    "\n",
    "\n",
    "import tensorlayerx as tlx;"
   ]
  },
  {
   "cell_type": "code",
   "execution_count": 5,
   "metadata": {},
   "outputs": [
    {
     "name": "stdout",
     "output_type": "stream",
     "text": [
      "[TLX] Input  _inputlayer_1: (64, 5)\n",
      "[TLX] Linear  linear1: 128 ReLU\n",
      "[TLX] Linear  linear2: 64 ReLU\n",
      "[TLX] Linear  linear3: 64 ReLU\n",
      "[TLX] Linear  linear4: 32 ReLU\n",
      "[TLX] Linear  linear5: 16 ReLU\n",
      "[TLX] Linear  output: 4 No Activation\n",
      "[TLX] [*] Load D:\\Code\\Smol-POC\\tensorlayerx\\20240504\\weights\\mobile-cl-202405061558.h5 SUCCESS!\n"
     ]
    }
   ],
   "source": [
    "class NeuralNetwork(Module):\n",
    "    def __init__(self):\n",
    "        super(NeuralNetwork, self).__init__();\n",
    "\n",
    "        # I don't know why this can't be from tlx.initializers import TruncatedNormal\n",
    "        w_init = tlx.initializers.TruncatedNormal(stddev = 0.02);\n",
    "        b_init = tlx.initializers.TruncatedNormal(mean = 1.0, stddev = 0.02);\n",
    "\n",
    "        self.input = Input(shape = (64, 5, ));\n",
    "        self.linear1 = Linear(out_features = 128, in_features = 5, act = ReLU, W_init = w_init, b_init = b_init, name = \"linear1\");\n",
    "        self.linear2 = Linear(out_features = 64, in_features = 128, act = ReLU, W_init = w_init, b_init = b_init, name = \"linear2\");\n",
    "        self.linear3 = Linear(out_features = 64, in_features = 64, act = ReLU, W_init = w_init, b_init = b_init, name = \"linear3\");\n",
    "        self.linear4 = Linear(out_features = 32, in_features = 64, act = ReLU, W_init = w_init, b_init = b_init, name = \"linear4\");\n",
    "        self.linear5 = Linear(out_features = 16, in_features = 32, act = ReLU, W_init = w_init, b_init = b_init, name = \"linear5\");\n",
    "\n",
    "        self.output = Linear(out_features = 4, in_features = 16, act = None, W_init = w_init, b_init = b_init, name = \"output\");\n",
    "\n",
    "    def forward(self, x):\n",
    "        x = self.linear1(x);\n",
    "        x = self.linear2(x);\n",
    "        x = self.linear3(x);\n",
    "        x = self.linear4(x);\n",
    "        x = self.linear5(x);\n",
    "        x = self.output(x);\n",
    "        return x;\n",
    "\n",
    "    def construct(self, x):\n",
    "        x = self.input(x);\n",
    "\n",
    "        x = self.linear1(x);\n",
    "        x = self.linear2(x);\n",
    "        x = self.linear3(x);\n",
    "        x = self.linear4(x);\n",
    "        x = self.linear5(x);\n",
    "        out = self.output(x);\n",
    "\n",
    "        return out;\n",
    "\n",
    "nn = NeuralNetwork();\n",
    "\n",
    "model = nn.load_weights(file_path = \"D:\\\\Code\\\\Smol-POC\\\\tensorlayerx\\\\20240504\\\\weights\\\\mobile-cl-202405061558.h5\");"
   ]
  }
 ],
 "metadata": {
  "kernelspec": {
   "display_name": "tlx",
   "language": "python",
   "name": "python3"
  },
  "language_info": {
   "codemirror_mode": {
    "name": "ipython",
    "version": 3
   },
   "file_extension": ".py",
   "mimetype": "text/x-python",
   "name": "python",
   "nbconvert_exporter": "python",
   "pygments_lexer": "ipython3",
   "version": "3.12.3"
  }
 },
 "nbformat": 4,
 "nbformat_minor": 2
}
